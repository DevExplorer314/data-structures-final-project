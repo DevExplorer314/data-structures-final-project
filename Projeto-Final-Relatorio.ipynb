{
 "cells": [
  {
   "cell_type": "markdown",
   "metadata": {},
   "source": [
    "![title](Logo.png)\n"
   ]
  },
  {
   "cell_type": "markdown",
   "metadata": {},
   "source": [
    "## Projeto Final - Implementação de um TAD Grafo para Rede Social"
   ]
  },
  {
   "cell_type": "markdown",
   "metadata": {},
   "source": [
    "#### Licenciatura em Ciência de Dados\n",
    "#### UC: Estrutura de Dados e Algoritmos\n",
    "#### Docentes: \n",
    "\n",
    "Ana Maria de Almeia\n",
    "\n",
    "Filipe Santos\n",
    "\n",
    "Ricardo António"
   ]
  },
  {
   "cell_type": "markdown",
   "metadata": {},
   "source": [
    "#### Grupo A2:\n",
    "\n",
    "João Portásio, nº 94754\n",
    "\n",
    "Sandra Silva, nº 98372\n",
    "\n",
    "Tiago Madeira, nº 95088\n",
    "\n",
    "__30 de Maio de 2021__"
   ]
  },
  {
   "cell_type": "markdown",
   "metadata": {},
   "source": [
    "## Índice\n",
    "\n",
    "1. Introdução\n",
    "\n",
    "\n",
    "2. Grafos e Redes\n",
    "\n",
    "\n",
    "3. Algoritmo de Dijkstra\n",
    "\n",
    "\n",
    "4. Medidas de centralidade\n",
    "\n",
    "    4.1 Centralidade de grau\n",
    "    \n",
    "    4.2 Centralidade de proximidade\n",
    "    \n",
    "\n",
    "5. Resultados obtidos\n",
    "\n",
    "\n",
    "6. Bibliografia"
   ]
  },
  {
   "cell_type": "markdown",
   "metadata": {},
   "source": [
    "## Introdução"
   ]
  },
  {
   "cell_type": "markdown",
   "metadata": {},
   "source": [
    "No projeto final de EDA, a primeira fase consistiu em implementar um TAD Grafo com métodos de consulta,\n",
    "inserção, remoção e pesquisa, que vai ser usado numa aplicação prática, usando dados de ligações (seguido-seguidor) do GitHub. Para a implementação do grafo, foi necessário implementar a classe Vertex e Edge. Os utilizadores da rede social, correspondem aos vértices do grafo e as arestas são as ligações entre os utilizadores.\n",
    "\n",
    "Afim de calcular os caminhos mais curtos no grafo, foi utilizado o algoritmo de Dijkstra. Este algoritmo permitiu determinar o caminho mais curto entre dois utilizadores. O caminho mais curto é aquele que tem o menor custo (peso da aresta) entre os utilizadores.\n",
    "\n",
    "Na segunda fase do projeto...*Complementar*"
   ]
  },
  {
   "cell_type": "markdown",
   "metadata": {},
   "source": [
    "## Grafos e Redes"
   ]
  },
  {
   "cell_type": "markdown",
   "metadata": {},
   "source": [
    "Grafos são representações de objetos que se relacionam entre si. Os objetos denominam-se de vértices e as relações entre os objetos, arestas.\n",
    "Se as relações não forem dirigidas, ou seja, se afetarem ambos os vértices de igual forma, trata-se de um grafo não dirigido (undirected) ou não orientado. Caso contrário, denomina-se grafo dirigido (directed) ou orientado. Neste caso, as arestas são normalmente designadas por arcos, já que implicam uma única direção. É de notar que basta existir uma aresta dirigida, para todo o grafo se considerar dirigido.\n",
    "\n",
    "#### Grafo não dirigido\n",
    "\n",
    "![title](grafo-nao-dirigido.png)\n",
    "\n",
    "#### Grafo dirigido\n",
    "\n",
    "![title](grafo-dirigido.png)\n",
    "Uma aresta num grafo dirigido costuma designar-se por arco e um vértice por nó. Cada arco tem um nó origem (antecessor) e um nó fim (sucessor)."
   ]
  },
  {
   "cell_type": "markdown",
   "metadata": {},
   "source": [
    "No projeto, a estrutura utilizada para a implementação do __TAD Grafo__, foi baseada em mapa de adjacências, sendo que permite alterar os “contentores” associados a cada vértice, para um dicionário, tendo por “chave”, o vértice adjacente e por “valor”, a aresta.\n",
    "\n",
    "Nas classes Vertex e Edge, foram criados métodos ‘__getter__’, para devolver os identificadores dos objetos. Na classe Vertex, utilizou-se o método __hash__(), que devolve um número inteiro (integer) que identifica o vértice como uma chave no dicionário. "
   ]
  },
  {
   "cell_type": "markdown",
   "metadata": {},
   "source": [
    "## Algoritmo de Dijkstra"
   ]
  },
  {
   "cell_type": "code",
   "execution_count": null,
   "metadata": {},
   "outputs": [],
   "source": []
  },
  {
   "cell_type": "markdown",
   "metadata": {},
   "source": [
    "## Medidas de Centralidade"
   ]
  },
  {
   "cell_type": "markdown",
   "metadata": {},
   "source": [
    "Em ciências da computação, quando se estuda redes, pretende-se identificar vértices influentes ou importantes. \n",
    "A identificação destes vértices usa medidas de centralidade com base nas\n",
    "diferentes noções de importância dos vértices ou arestas. \n",
    "\n",
    "Algumas destas medidas são: a centralidade de grau (degree centrality), a de proximidade (closeness) e a de intermediação (betweeness). Nestes casos, a importância de um vértice devesse ao seu número de ligações e à assunção de quão importante será um nó por onde muitos dos caminhos no grafo passem."
   ]
  },
  {
   "cell_type": "markdown",
   "metadata": {},
   "source": [
    "### Centralidade de grau"
   ]
  },
  {
   "cell_type": "markdown",
   "metadata": {},
   "source": [
    "A centralidade de grau de um determinado vértice, é calculada como a quantidade de \"vizinhos\" (nós adjacentes), ou seja, o grau de um nó. Se o grafo for dirigido, é importante saber a centralidade de entrada e a de saída, uma vez que a primeira mede a popularidade do nó e a segunda, o grau de influência."
   ]
  },
  {
   "cell_type": "markdown",
   "metadata": {},
   "source": [
    "### Centralidade de proximidade"
   ]
  },
  {
   "cell_type": "markdown",
   "metadata": {},
   "source": [
    "A centralidade de proximidade de um vértice é calculada como o inverso da soma das distâncias do vértice a todos os restantes. Quanto mais próximo um nó estiver\n",
    "de todos os restantes, maior a importância do vértice na rede."
   ]
  },
  {
   "cell_type": "markdown",
   "metadata": {},
   "source": [
    "## Resultados obtidos"
   ]
  },
  {
   "cell_type": "markdown",
   "metadata": {},
   "source": [
    "Para melhor compreensão do código desenvolvido, decidimos dividi-lo em alguns módulos para facilitar o entendimento lógico. Existem 2 ficheiros de código, nomeadamente:\n",
    "\n",
    "__Grupo_A2.py__ - Bases para implementação do grafo.\n",
    "\n",
    "__Grupo_A2_heap_queue.py__ - Fila prioritária para utilização do método Dijkstra para determinação dos caminhos mais curtos no grafo.\n"
   ]
  },
  {
   "cell_type": "markdown",
   "metadata": {},
   "source": [
    "![title](Algoritmos.png)"
   ]
  },
  {
   "cell_type": "markdown",
   "metadata": {},
   "source": [
    "Primeiramente, criou-se a classe Vertex que visa a representar os objetos (vértices) do grafo, sendo que cada vértice representa os utilizadores da rede social."
   ]
  },
  {
   "cell_type": "code",
   "execution_count": 20,
   "metadata": {},
   "outputs": [],
   "source": [
    "class Vertex:\n",
    "    __slots__ = '_element'\n",
    "\n",
    "    def __init__(self, x):\n",
    "        self._element = x\n",
    "\n",
    "    def element(self):\n",
    "        return self._element\n",
    "\n",
    "    def __hash__(self):\n",
    "        return hash(self._element)\n",
    "\n",
    "    def __repr__(self):\n",
    "        return '{0}'.format(self._element)\n",
    "\n",
    "    def __eq__(self, other):\n",
    "        if isinstance(other, Graph.Vertex):\n",
    "            return self._element == other._element        \n",
    "        return False"
   ]
  },
  {
   "cell_type": "markdown",
   "metadata": {},
   "source": [
    "De seguida, criou-se a classe Edge que representa as ligações entre os vértices no grafo."
   ]
  },
  {
   "cell_type": "code",
   "execution_count": 21,
   "metadata": {},
   "outputs": [],
   "source": [
    "class Edge:\n",
    "\n",
    "   __slots__ = '_origin', '_destination', '_weight'\n",
    "\n",
    "   def __init__(self, u, v, x):\n",
    "\n",
    "       self._origin = u\n",
    "       self._destination = v\n",
    "       self._weight = x\n",
    "\n",
    "   def endpoints(self):\n",
    "       return (self._origin, self._destination)\n",
    "\n",
    "   def opposite(self, v):\n",
    "       return self._destination if self._origin == v else self._origin\n",
    "\n",
    "   def element(self):\n",
    "       return self._weight\n",
    "\n",
    "   def __hash__(self):\n",
    "       return hash((self._origin, self._destination))\n",
    "\n",
    "   def __repr__(self):\n",
    "       if self._weight is None:\n",
    "           return '({0}, {1})'.format(self._origin, self._destination)\n",
    "       return '({0}, {1}, {2})'.format(self._origin, self._destination, self._weight)"
   ]
  },
  {
   "cell_type": "markdown",
   "metadata": {},
   "source": [
    "Na classe Edge, foi necessário criar os seguintes métodos:\n",
    "\n",
    "__endpoints()__: que devolve um ‘par’ (u,v) com os seus vértices terminais (que é um par orientado no caso de um dígrafo)\n",
    "\n",
    "__opposite(v)__: que devolve o outro vértice na aresta (i.e., o oposto a v)"
   ]
  },
  {
   "cell_type": "markdown",
   "metadata": {},
   "source": [
    "A classe principal para a implementação do TAD Grafo, é a class Graph, sendo que representa toda a estrutura da rede social.\n",
    "Alguns dos métodos relevantes para a construção do grafo, são nomeadamente:\n",
    "\n",
    "__insert_vertex(x)__: Insere e devolve um novo vértice com o elemento x\n",
    "\n",
    "__insert_edge(u,v,x)__: Cria u e v e insere e devolve uma nova aresta entre u e v com peso x\n",
    "\n",
    "__remove_vertex(x)__: Remove o vértice v e todas as arestas adjacentes a v\n",
    "\n",
    "__remove_edge(u,v)__: Remove a aresta entre u e v\n",
    "\n",
    "__adjacent_vertices(v)__: Retorna todos os vértices adjacentes a um dado vértice\n",
    "\n",
    "__incident_edges(v)__: Gerador: indica todas as arestas (outgoing) incidentes em v. Se for um grafo dirigido e o outgoing for False, devolve as arestas em incoming\n",
    "\n",
    "__vertex_count()__: Devolve a quantidade de vértices no grafo\n",
    "\n",
    "__vertices()__: Devolve um iterável sobre todos os vértices do Grafo\n",
    "\n",
    "__edge_count()__: Devolve a quantidade de arestas do Grafo\n",
    "\n",
    "__edges()__: Devolve o conjunto de todas as arestas do Grafo\n",
    "\n",
    "__degree()__: Devolve a quantidade de arestas incidentes no vértice v. Se for um grafo dirigido, conta apenas as arestas outcoming ou em incoming, de acordo com o valor de outgoing\n",
    "\n",
    "__get_vertex(x)__: Devolve o vértice do grafo com o elemento correspondente a x\n",
    "\n",
    "__get_edge(u,v)__: Devolve a aresta que liga u e v, ou None, se não forem adjacentes\n",
    "\n",
    "__printG()__: Mostra o grafo por linhas"
   ]
  },
  {
   "cell_type": "code",
   "execution_count": 22,
   "metadata": {},
   "outputs": [],
   "source": [
    "class Graph:\n",
    "    \n",
    "    def __init__(self, directed=False):\n",
    "\n",
    "        self._outgoing = {}\n",
    "        self._incoming = {} if directed else self._outgoing\n",
    "\n",
    "    def __getitem__(self, arg):\n",
    "        return self._incoming[arg]\n",
    "\n",
    "    def is_directed(self):\n",
    "        return self._outgoing is not self._incoming\n",
    "\n",
    "    def vertex_count(self):\n",
    "        return len(self._outgoing)\n",
    "\n",
    "    def vertices(self):\n",
    "        return self._outgoing.keys()\n",
    "\n",
    "    def get_vertex(self, x):\n",
    "        for vertex in self.vertices():\n",
    "            if vertex.element() == x:\n",
    "                return vertex\n",
    "        return None\n",
    "\n",
    "    def edges_count(self):\n",
    "        edges = set()\n",
    "        for secondary_map in self._outgoing.values():\n",
    "            edges.update(secondary_map.values())\n",
    "        return len(edges)\n",
    "\n",
    "    def edges(self):\n",
    "        edges = set()\n",
    "        for secondary_map in self._outgoing.values():\n",
    "            edges.update(secondary_map.values())\n",
    "        return edges\n",
    "\n",
    "    def get_edge(self, u, v):\n",
    "        return self._outgoing[u].get(v)\n",
    "\n",
    "    def degree(self, v, outgoing=True):\n",
    "        inc = self._outgoing if outgoing else self._incoming\n",
    "        return len(inc[v])\n",
    "\n",
    "    def incident_edges(self, v, outgoing=True):\n",
    "        inc = self._outgoing if outgoing else self._incoming\n",
    "        if v not in inc:\n",
    "            return None\n",
    "        for edge in inc[v].values():\n",
    "            yield edge\n",
    "\n",
    "    def adjacent_vertices(self, v, outgoing=True):\n",
    "        if outgoing:\n",
    "            if v in self._outgoing:\n",
    "                return self._outgoing[v].keys()\n",
    "            else:\n",
    "                return None\n",
    "        else:\n",
    "            if v in self._incoming:\n",
    "                return self._incoming[v].keys()\n",
    "            else:\n",
    "                return None\n",
    "\n",
    "    def insert_vertex(self, x=None):\n",
    "        for vertex in self.vertices():\n",
    "            if vertex.element() == x:\n",
    "                return vertex\n",
    "\n",
    "        v = self.Vertex(x)\n",
    "\n",
    "        self._outgoing[v] = {}\n",
    "        if self.is_directed:\n",
    "            self._incoming[v] = {}\n",
    "\n",
    "        return v\n",
    "\n",
    "    def insert_edge(self, u, v, x=None):\n",
    "        if (v not in self._outgoing) or (v not in self._outgoing):\n",
    "            raise Exception('One of the vertices does not exist')\n",
    "\n",
    "        if self.get_edge(u, v):\n",
    "            e = self.Edge(u, v, x)\n",
    "            return e\n",
    "\n",
    "        e = self.Edge(u, v, x)\n",
    "\n",
    "        self._outgoing[u][v] = e\n",
    "        self._incoming[v][u] = e\n",
    "\n",
    "        return e\n",
    "\n",
    "    def remove_edge(self, u, v):\n",
    "        if not self.get_edge(u, v):\n",
    "            raise Exception('Edge is already non-existent.')\n",
    "\n",
    "        u_neighbours = self._outgoing[u]\n",
    "        del u_neighbours[v]\n",
    "        v_neighbours = self._incoming[v]\n",
    "        del v_neighbours[u]\n",
    "\n",
    "    def remove_vertex(self, x):\n",
    "\n",
    "        if (x not in self._outgoing) and (x not in self._incoming):\n",
    "            raise Exception('Vertex already non-existent')\n",
    "\n",
    "        secondary_map = self._outgoing[x]\n",
    "        for vertex in secondary_map:\n",
    "            if self.is_directed():\n",
    "                del self._incoming[vertex][x]\n",
    "            else:\n",
    "                del self._outgoing[vertex][x]\n",
    "        del self._outgoing[x]\n",
    "\n",
    "    def get_weight(self, v, outgoing=True):\n",
    "        weights = {}\n",
    "        queue = AdaptableHeapPriorityQueue()\n",
    "        inc = self._outgoing if outgoing else self._incoming\n",
    "        if v not in inc:\n",
    "            return None\n",
    "        for edge in inc[v].values():\n",
    "            weights[v] = v\n",
    "            weights[v] = queue.add(weights[v], edge.element())\n",
    "        print(weights)\n",
    "\n",
    "    def printG(self):\n",
    "        print('Grafo Orientado:', self.is_directed())\n",
    "        \n",
    "        print(\"Número de Vertices: {}\".format(G.vertex_count()))\n",
    "\n",
    "        print(\"Número de Arestas: {}\".format(G.edges_count()))\n",
    "\n",
    "        for v in self.vertices():\n",
    "            print('\\nUser: ', v, ' grau_in: ', self.degree(v, False), end=' ')\n",
    "            if self.is_directed():\n",
    "                print('grau_out: ', self.degree(v, False))\n",
    "            for i in self.incident_edges(v):\n",
    "                print(' ', i, end=' ')\n",
    "            if self.is_directed():\n",
    "                for i in self.incident_edges(v, False):\n",
    "                    print(' ', i, end=' ')"
   ]
  },
  {
   "cell_type": "markdown",
   "metadata": {},
   "source": [
    "Afim de proceder à leitura de ficheiros com a extensão (.csv), foi criado um método para carregamento desses dados, que obedece ao seguinte formato:\n",
    "    \n",
    "   1. Por linha existem 3 valores de dados, o 1.º e o 2.º, indicam os nomes dos vértices e o 3.º, um peso.\n",
    "   2. Ignora a primeira linha do ficheiro csv.\n",
    "   3. Caso não exista uma terceira coluna do ficheiro csv, assume-se que o peso das arestas é 1."
   ]
  },
  {
   "cell_type": "code",
   "execution_count": 23,
   "metadata": {},
   "outputs": [],
   "source": [
    "def read_csv(filename):\n",
    "    G = Graph()\n",
    "\n",
    "    with open(filename, 'r') as csv_file:\n",
    "        data = csv.reader(csv_file)\n",
    "        next(data)\n",
    "\n",
    "        for linha in data:\n",
    "            id_origem = linha[0]\n",
    "            id_destino = linha[1]\n",
    "            peso = linha[2] if len(linha) > 2 else 1\n",
    "\n",
    "\n",
    "            v_origem = G.insert_vertex(id_origem)\n",
    "            v_destino = G.insert_vertex(id_destino)\n",
    "\n",
    "            G.insert_edge(v_origem, v_destino, int(peso))\n",
    "\n",
    "    return G"
   ]
  },
  {
   "cell_type": "markdown",
   "metadata": {},
   "source": [
    "De seguida, foi utilizado o algoritmo de Dijkstra para determinar os caminhos mais curtos no grafo, utilizando os pesos das arestas. [1]\n",
    "\n",
    "A nossa implementação do algoritmo é sob a forma de uma função, com o comprimento mais curto do caminho, recebendo como parâmetros, um grafo e um vértice de origem. No seguimento, devolve um dicionário, chamado __cloud__, mapeando cada vértice v que é alcançável desde a origem até à sua distância mais curta, de percurso __d(s,v)__. Foi também necessário recorrer à classe __AdaptableHeapPriorityQueue__(ficheiro Grupo_A2_heap_queue), que representa uma fila de prioridade adaptável. [1]\n",
    "\n",
    "O valor ('inf'), do tipo __float__, fornece um valor numérico que representa o infinito positivo. "
   ]
  },
  {
   "cell_type": "code",
   "execution_count": 24,
   "metadata": {},
   "outputs": [],
   "source": [
    "def shortest_path_lengths(G, src):\n",
    "    d = {}\n",
    "    cloud = {}\n",
    "    pq = AdaptableHeapPriorityQueue()\n",
    "    pqlocator = {}\n",
    "    source = Graph.Vertex(src)\n",
    "    for v in G.vertices():\n",
    "        if v == source:\n",
    "            d[v] = 0\n",
    "        else:\n",
    "            d[v] = float('inf')\n",
    "        pqlocator[v] = pq.add(d[v], v)\n",
    "\n",
    "    while not pq.is_empty():\n",
    "        key, u = pq.remove_min()\n",
    "        cloud[u] = key\n",
    "        del pqlocator[u]\n",
    "        for e in G.incident_edges(u):\n",
    "            v = e.opposite(u)\n",
    "            if v not in cloud:\n",
    "                wgt = e.element()\n",
    "                if d[u] + wgt < d[v]:\n",
    "                   d[v] = d[u] + wgt\n",
    "                   pq.update(pqlocator[v], d[v], v)\n",
    "\n",
    "    return cloud"
   ]
  },
  {
   "cell_type": "markdown",
   "metadata": {},
   "source": [
    "__Output__:"
   ]
  },
  {
   "cell_type": "code",
   "execution_count": null,
   "metadata": {},
   "outputs": [],
   "source": [
    "=====================================================\n",
    "shortest_path_lengths(G, \"171316\")\n",
    "\n",
    "{171316: 0, 9236: 1, 1570: 1, 1563: 1, 171339: 1, 45703: 1, 2400: 1, 171337: 1, 96349: 1, 170787: 1, 91801: 1, 14613: 1, 75393: 1, 12549692: 2, 2907: 2, 148568: 2, 171368: 2, 60568: 2, 164697: 2, 16484: 2, 79289: 2, 2935: 2, 22848: 2, 192828: 2, 46399: 2, 94336: 2, 196062: 2, 8077: 2, 27332: 2, 25993: 2, 102510: 2, 18115: 2, 34539: 2, 7182: 2, 346: 2, 7631: 2, 13767: 2, 141841: 2, 10996: 2, 166126: 2, 11726: 2, 47281: 2, 4825: 2, 20216: 2, 171583: 2, 43167: 2, 13718: 2, 46918: 2, 6569: 2, 236682: 2, 158864: 2, 34575: 2, 159663: 2, 46792: 2, 91802: 2, 24452: 2, 158803: 2, 14963: 2, 2821814: 2, 61584: 2, 196026: 2, 391: 2, 24553: 2, 10942: 2, 26393: 2, 16499: 2, 47411: 2, 155593: 2, 83975: 2, 142720: 2, 4907: 2, 1564: 2, 32206: 2, 164444: 2, 35441: 2, 158992: 2, 74836: 2, 23978: 2, 88067: 2, 171317: 2, 10005: 2, 17805: 2, 22820: 2, 46793: 2, 78828: 2, 81540: 2, 164235: 2, 17880: 2, 33271: 2, 17950: 2, 18190: 2, 35886: 2, 166911: 2, 46782: 2, 122547: 2, 46377: 2, 23329: 2, 181247: 2, 168404: 2, 37747: 2, 3228736: 2, 171366: 2, 27298: 2, 2475962: 2, 238312: 2, 199084: 2, 94801: 2, 8135: 2, 169553: 2, 63042: 2, 14424: 2, 17800: 2, 41838: 2, 28328: 2, 30489: 2, 18146: 2, 171678: 2, 161441: 2, 171324: 2, 33016: 2, 37207: 2, 7210565: 2, 47512: 2, 171969: 2, 144589: 2, 37215: 2, 117841: 2, 15080: 2, 196021: 2, 1934: 2, 186247: 2, 72711: 2, 19804: 2, 130353: 2, 171515: 2, 75477: 2, 34578: 2, 13860: 2, 17797: 2, 47108: 2, 90056: 2, 127887: 2, 158818: 2, 171319: 2, 81599: 2, 113513: 2, 306: 2, 2854520: 2, 173318: 2, 4567: 2, 313311: 2, 196015: 2, 1117585: 2, 222884: 2, 1558: 2, 154559: 2, 174886: 2, 5697: 2, 40355: 2, 10967: 2, 158913: 2, 72317: 2, 32949: 2, 123233: 2, 181420: 2, 43249: 2, 2812: 2, 52422: 2, 243659: 2, 10886: 2, 171392: 2, 11636: 2, 158827: 2, 171579: 2, 10674: 2, 49030: 2, 120378: 2, 27328: 2, 7588: 2, 20044: 2, 12186: 2, 161768: 2, 91474: 2, 78115: 2, 4140: 2, 41223: 2, 11957: 2, 70997: 2, 58015: 2, 39041: 2, 49035: 2, 170892: 2, 1008: 2, 35126: 2, 171314: 2, 10643: 2, 66067: 2, 67666: 2, 86944: 2, 253188: 2, 10006058: 2, 6985: 2, 230364: 2, 1565: 2, 7547: 2, 36883: 2, 63284: 2, 25242: 2, 433: 2, 10002881: 2, 171313: 2, 139529: 2, 33714: 2, 159073: 2, 13395: 2, 10738: 2, 193370: 2, 158906: 2, 17642: 2, 158802: 2, 33523: 2, 46934: 2, 34095: 2, 18125: 2, 9918: 2, 51291: 2, 52805: 2, 171389: 2, 387143: 2, 34594: 2, 164298: 2, 171372: 2, 120050: 2, 24871: 2, 7579: 2, 9266: 2, 46795: 2, 112372: 2, 15445: 2, 37852: 2, 130027: 2, 103911: 2, 50653: 2, 10645: 2, 6821: 2, 4397: 2, 24562: 2, 74247: 2, 171321: 2, 36034: 2, 76233: 2, 93301: 2, 6788: 2, 176616: 2, 60904: 2, 162217: 2, 171328: 2, 63316: 2, 5990: 2, 29869: 2, 132760: 2, 171627: 2, 67072: 2, 27461: 2, 33681: 2, 7592: 2, 4328: 2, 7504: 2, 245506: 2, 82348: 2, 108971: 2, 74242: 2, 23588: 2, 465: 2, 31909: 2, 218630: 2, 12225: 2, 12000: 2, 97380: 2, 119984: 2, 33018: 2, 2983: 2, 82280: 2, 89323: 2, 15119: 2, 33520: 2, 141836: 2, 13823: 2, 2146: 2, 33374: 2, 10672: 2, 14113: 2, 74090: 2, 84481: 2, 35382: 2, 7566: 2, 187308: 2, 35216: 2, 41811: 2, 21464: 2, 1567: 2, 30355: 2, 61009: 2, 2618: 2, 61024: 2, 32740: 2, 23540: 2, 4620: 2, 13071: 2, 116512: 2, 2303: 2, 46870: 2, 20634: 2, 94851: 2, 15347: 2, 25789: 2, 67736: 2, 7585: 2, 19370: 2, 14201: 2, 317325: 2, 167683: 2, 41916: 2, 87306: 2, 120819: 2, 676: 2, 14006: 2, 150627: 2, 21523: 2, 61272: 2, 8042: 2, 62930: 2, 72157: 2, 117387: 2, 1434755: 2, 47049: 2, 23594: 2, 165957: 2, 26394: 2, 214274: 2, 13256: 2, 28106: 2, 9023: 2, 34597: 2, 6542: 2, 134106: 2, 118098: 2, 131122: 2, 198591: 2, 18126: 2, 47106: 2, 158811: 2, 7614: 2, 177967: 2, 164223: 2, 14780: 2, 20630: 2, 583936: 2, 2281: 2, 4139: 2, 742883: 2, 17898: 2, 22390: 2, 1063: 2, 82907: 2, 84539: 2, 82117: 2, 11914: 2, 7648: 2, 171312: 2, 5816: 2, 64977: 2, 185563: 2, 192945: 2, 27267: 2, 28775: 2, 143808: 2, 18169: 2, 24533: 2, 39428: 2, 42761: 2, 2556: 2, 158856: 2, 196040: 2, 171330: 2, 25253: 2, 267939: 2, 48903: 2, 91763: 2, 85442: 2, 171323: 2, 162224: 2, 34638: 2, 1583284: 2, 28117: 2, 42493: 2, 33918: 2, 87195: 2, 158873: 2, 128208: 2, 171602: 2, 68076: 2, 160681: 2, 192851: 2, 34538: 2, 20628: 2, 32872: 2, 171318: 2, 16042: 2, 44496: 2, 67044: 2, 36528: 2, 2159: 2, 171315: 2, 352: 2, 9027: 2, 8103: 2, 11855: 2, 43491: 2, 20631: 2, 171325: 2, 171565: 2, 28552: 2, 17731: 2, 24340: 2, 14922: 2, 91551: 2, 123859: 2, 121208: 2, 2582: 2, 88280: 2, 47427: 2, 158800: 2, 3892: 2, 27770: 2, 18567: 2, 11149: 2, 171620: 2, 44820: 2, 11917: 2, 24196: 2, 7580: 2, 135978: 2, 171386: 2, 34589: 2, 166163: 2, 26457: 2, 26395: 2, 5161: 2, 158858: 2, 172335: 2, 82366: 2, 119819: 2, 59216: 2, 198961: 2, 46785: 2, 152896: 2, 13803: 2, 457: 2, 8079: 2, 1569: 2, 9944: 2, 2653: 2, 95982: 2, 69392: 2, 49146: 2, 17932: 2, 160993: 2, 10788: 2, 2264: 2, 65665: 2, 167227: 2, 233103: 2, 187482: 2, 108414: 2, 129345: 2, 50906: 2, 21269: 2, 21862: 2, 24119: 2, 164292: 2, 169000: 2, 174689: 2, 80468: 2, 5995: 2, 3286: 2, 52402: 2, 24573: 2, 7546: 2, 679866: 2, 2601: 2, 14284: 2, 46791: 2, 17051: 2, 15238: 2, 6091: 2, 158997: 2, 66821: 3, 28405: 3, 41720: 3, 191755: 3, 165937: 3, 439772: 3, 211120: 3, 9322: 3, 116562: 3, 160992: 3, 132738: 3, 464476: 3, 210134: 3, 190921: 3, 150: 3, 6891: 3, 1022646: 3, 12420: 3, 198722: 3, 167231: 3, 65170: 3, 365080: 3, 282626: 3, 62750: 3, 114178: 3, 152788: 3, 46290: 3, 165965: 3, 138429: 3, 32598: 3, 76701: 3, 75998: 3, 167451: 3, 3371784: 3, 29398: 3, 606769: 3, 123817: 3, 34902: 3, 103533: 3, 27459: 3, 46395: 3, 46871: 3, 350: 3, 348574: 3, 14175: 3, 55295: 3, 374998: 3, 401456: 3, 281158: 3, 192820: 3, 26969: 3, 15836: 3, 44269: 3, 188737: 3, 25429: 3, 21410: 3, 158917: 3, 72283: 3, 278329: 3, 2504968: 3, 14456: 3, 158826: 3, 63376: 3, 1012951: 3, 141830: 3, 126362: 3, 14435: 3, 65002: 3, 17755: 3, 7804562: 3, 8152: 3, 242941: 3, 419547: 3, 1504300: 3, 9696640: 3, 5645: 3, 418: 3, 31695: 3, 68407: 3, 114920: 3, 64299: 3, 795384: 3, 219853: 3, 167603: 3, 63419: 3, 64626: 3, 28942: 3, 2443056: 3, 98859: 3, 837: 3, 213827: 3, 100473: 3, 17832: 3, 335230: 3, 53070: 3, 273499: 3, 181711: 3, 215713: 3, 46326: 3, 46887: 3, 30443: 3, 285063: 3, 506417: 3, 5274: 3, 3123: 3, 81914: 3, 17990: 3, 63114: 3, 53080: 3, 185568: 3, 228578: 3, 4189: 3, 331048: 3, 76472: 3, 23308: 3, 32923: 3, 18089: 3, 338053: 3, 35684: 3, 89406: 3, 25309: 3, 81317: 3, 7935990: 3, 111370: 3, 112971: 3, 85311: 3, 167329: 3, 35469: 3, 35867: 3, 2172999: 3, 175276: 3, 84811: 3, 212774: 3, 17470: 3, 238862: 3, 479813: 3, 131752: 3, 394143: 3, 62671: 3, 170838: 3, 125086: 3, 93205: 3, 116665: 3, 162222: 3, 16372: 3, 91863: 3, 96084: 3, 134142: 3, 187852: 3, 134363: 3, 198669: 3, 47900: 3, 15678: 3, 5547539: 3, 6726432: 3, 270377: 3, 73314: 3, 15569: 3, 22596: 3, 92932: 3, 20633: 3, 42459: 3, 98818: 3, 296732: 3, 21635: 3, 47243: 3, 2436627: 3, 28238: 3, 375706: 3, 5147: 3, 472160: 3, 109877: 3, 427115: 3, 41545: 3, 59570: 3, 58180: 3, 146885: 3, 35398: 3, 162367: 3, 70317: 3, 3379: 3, 13608: 3, 92751: 3, 284094: 3, 68371: 3, 193606: 3, 37222: 3, 126869: 3, 99715: 3, 107385: 3, 439803: 3, 160619: 3, 51368: 3, 322991: 3, 33688: 3, 198891: 3, 8286: 3, 234377: 3, 238585: 3, 57714: 3, 65463: 3, 10002749: 3, 67159: 3, 32612: 3, 131648: 3, 81307: 3, 253925: 3, 111065: 3, 409834: 3, 192940: 3, 16766: 3, 416: 3, 703707: 3, 10906: 3, 99039: 3, 192850: 3, 165212: 3, 25678: 3, 167218: 3, 52077: 3, 78785: 3, 64920: 3, 1150120: 3, 18054: 3, 8913: 3, 24564: 3, 24531: 3, 164994: 3, 182728: 3, 504580: 3, 166918: 3, 457990: 3, 135196: 3, 198939: 3, 32280: 3, 266815: 3, 23462: 3, 160493: 3, 125478: 3, 124433: 3, 74620: 3, 7900: 3, 101844: 3, 158890: 3, 44451: 3, 498203: 3, 109144: 3, 1393886: 3, 11876: 3, 7936759: 3, 193380: 3, 1409312: 3, 7549: 3, 176395: 3, 7865: 3, 78805: 3, 59226: 3, 59332: 3, 75891: 3, 68912: 3, 124729: 3, 169765: 3, 70572: 3, 251243: 3, 141908: 3, 8635: 3, 92494: 3, 300108: 3, 9001838: 3, 121438: 3, 129583: 3, 43732: 3, 30453: 3, 17763: 3, 14348: 3, 8912: 3, 889364: 3, 213436: 3, 263126: 3, 356011: 3, 46555: 3, 311324: 3, 110516: 3, 78040: 3, 1002109: 3, 65713: 3, 68437: 3, 131465: 3, 13999: 3, 4532: 3, 28074: 3, 160991: 3, 635931: 3, 433513: 3, 220626: 3, 1635057: 3, 228657: 3, 150764: 3, 24590: 3, 142877: 3, 112641: 3, 44267: 3, 98816: 3, 1740267: 3, 393566: 3, 158410: 3, 176909: 3, 150408: 3, 164744: 3, 215602: 3, 642: 3, 3199: 3, 39785: 3, 2576: 3, 46746: 3, 27477: 3, 75438: 3, 14742: 3, 3460987: 3, 33522: 3, 56740: 3, 5784: 3, 2848: 3, 252220: 3, 17958: 3, 192819: 3, 17934: 3, 840: 3, 1063858: 3, 321930: 3, 2001: 3, 198978: 3, 262046: 3, 120628: 3, 8724893: 3, 214276: 3, 202665: 3, 52223: 3, 63517: 3, 16040: 3, 7675: 3, 2584: 3, 264295: 3, 187227: 3, 17738: 3, 47670: 3, 18162: 3, 101502: 3, 23353: 3, 13089: 3, 51608: 3, 148017: 3, 38758: 3, 25274: 3, 6145: 3, 53006: 3, 77572: 3, 59461: 3, 40050: 3, 367456: 3, 40002: 3, 49922: 3, 5015: 3, 36382: 3, 62313: 3, 7886264: 3, 12109690: 3, 22457: 3, 403192: 3, 44444: 3, 74180: 3, 186955: 3, 11883: 3, 8147: 3, 23582: 3, 132291: 3, 252122: 3, 11885: 3, 14129: 3, 178910: 3, 36378: 3, 6100: 3, 65527: 3, 2904006: 3, 414800: 3, 1156673: 3, 1735911: 3, 13611: 3, 1372: 3, 100740: 3, 261727: 3, 162229: 3, 134470: 3, 103222: 3, 3063: 3, 44128: 3, 39693: 3, 1824573: 3, 131607: 3, 6582: 3, 34541: 3, 753053: 3, 258953: 3, 3161: 3, 132556: 3, 209336: 3, 185659: 3, 147238: 3, 275709: 3, 93974: 3, 1595: 3, 663257: 3, 210932: 3, 14666: 3, 98819: 3, 213824: 3, 231019: 3, 281862: 3, 6189: 3, 113338: 3, 383429: 3, 17888: 3, 28905: 3, 34655: 3, 75784: 3, 23823: 3, 153056: 3, 13711: 3, 3038: 3, 137924: 3, 62413: 3, 307551: 3, 209947: 3, 7757: 3, 12429: 3, 61030: 3, 279284: 3, 53808: 3, 87375: 3, 2192: 3, 44699: 3, 102474: 3, 250079: 3, 193954: 3, 214281: 3, 65228: 3, 127679: 3, 180178: 3, 64269: 3, 319779: 3, 279391: 3, 177268: 3, 164601: 3, 50850: 3, 75947: 3, 27131: 3, 3917: 3, 25997: 3, 214298: 3, 96044: 3, 214287: 3, 23976: 3, 127748: 3, 286181: 3, 40028: 3, 159807: 3, 152954: 3, 213421: 3, 15558: 3, 74949: 3, 411614: 3, 46469: 3, 61019: 3, 14184: 3, 61900: 3, 185728: 3, 212552: 3, 8940: 3, 72104: 3, 316735: 3, 134587: 3, 123600: 3, 36661: 3, 2972433: 3, 72824: 3, 18020: 3, 23021: 3, 491981: 3, 46890: 3, 391319: 3, 69958: 3, 34614: 3, 54746: 3, 64595: 3, 29235: 3, 198576: 3, 7710: 3, 9422: 3, 192876: 3, 53451: 3, 6009: 3, 165669: 3, 133462: 3, 22724: 3, 124633: 3, 38574: 3, 181357: 3, 155917: 3, 36454: 3, 198885: 3, 217786: 3, 29078: 3, 9191610: 3, 166014: 3, 22041: 3, 1231529: 3, 37905: 3, 68412: 3, 168278: 3, 146787: 3, 5823: 3, 3355748: 3, 233357: 3, 145034: 3, 50484: 3, 3932: 3, 1282: 3, 18760: 3, 497388: 3, 7636: 3, 222885: 3, 1601: 3, 36671: 3, 180703: 3, 4088052: 3, 70715: 3, 197314: 3, 377344: 3, 44297: 3, 40042: 3, 166164: 3, 3914: 3, 50968: 3, 86929: 3, 11415773: 3, 71661: 3, 74514: 3, 280903: 3, 24204: 3, 28893: 3, 36645: 3, 18337: 3, 27830: 3, 185810: 3, 129594: 3, 81668: 3, 15179: 3, 889397: 3, 1183297: 3, 76035: 3, 164253: 3, 261936: 3, 57716: 3, 29988: 3, 674596: 3, 439011: 3, 33158: 3, 4134: 3, 103731: 3, 158822: 3, 24555: 3, 195373: 3, 1687735: 3, 20748: 3, 123867: 3, 82060: 3, 156743: 3, 7127: 3, 152772: 3, 30454: 3, 64971: 3, 27342: 3, 91936: 3, 30090: 3, 144608: 3, 35395: 3, 186011: 3, 68064: 3, 53340: 3, 70058: 3, 151044: 3, 138905: 3, 28464: 3, 339189: 3, 29659: 3, 34627: 3, 389009: 3, 228579: 3, 78094: 3, 69363: 3, 82027: 3, 145972: 3, 33385: 3, 50901: 3, 2847: 3, 236036: 3, 158007: 3, 198946: 3, 203966: 3, 165091: 3, 16154: 3, 96145: 3, 76375: 3, 149841: 3, 236559: 3, 326610: 3, 3802316: 3, 166077: 3, 233944: 3, 478318: 3, 261450: 3, 23362: 3, 428797: 3, 290394: 3, 184769: 3, 10073726: 3, 103795: 3, 38076: 3, 161005: 3, 158889: 3, 12445: 3, 46889: 3, 105070: 3, 164422: 3, 278208: 3, 101024: 3, 29407: 3, 701338: 3, 47778: 3, 53223: 3, 246444: 3, 36872: 3, 332082: 3, 53770: 3, 93: 3, 97431: 3, 29830: 3, 235449: 3, 63477: 3, 55552: 3, 176483: 3, 7548: 3, 62774: 3, 188135: 3, 3419776: 3, 356823: 3, 48458: 3, 137573: 3, 48388: 3, 7806: 3, 3395048: 3, 158865: 3, 42671: 3, 59746: 3, 190370: 3, 37522: 3, 5810: 3, 83874: 3, 86717: 3, 24771: 3, 120627: 3, 234365: 3, 4992: 3, 37694: 3, 44990: 3, 253416: 3, 162581: 3, 3499027: 3, 125760: 3, 180202: 3, 149226: 3, 263155: 3, 71628: 3, 253966: 3, 7664: 3, 48216: 3, 13798: 3, 423913: 3, 218610: 3, 59814: 3, 68404: 3, 27420: 3, 131701: 3, 162606: 3, 111305: 3, 75996: 3, 182729: 3, 93466: 3, 145000: 3, 83603: 3, 36347: 3, 34736: 3, 10803: 3, 164602: 3, 2425882: 3, 188968: 3, 108068: 3, 132334: 3, 8267: 3, 64319: 3, 11154: 3, 347339: 3, 91647: 3, 190448: 3, 21512: 3, 193372: 3, 93226: 3, 178759: 3, 213711: 3, 17265: 3, 21497: 3, 2424145: 3, 372976: 3, 13707: 3, 267778: 3, 201248: 3, 74391: 3, 4277: 3, 82381: 3, 7912: 3, 103732: 3, 25614: 3, 265434: 3, 60164: 3, 31091: 3, 160818: 3, 155643: 3, 347224: 3, 57102: 3, 238943: 3, 323091: 3, 33616: 3, 14202: 3, 167345: 3, 151916: 3, 134524: 3, 180219: 3, 934892: 3, 245844: 3, 47112: 3, 63240: 3, 165938: 3, 152812: 3, 41455: 3, 6072: 3, 93038: 3, 49104: 3, 31258: 3, 46790: 3, 153071: 3, 278221: 3, 675479: 3, 158806: 3, 28087: 3, 109311: 3, 177403: 3, 1400906: 3, 1833209: 3, 152755: 3, 54229: 3, 10741: 3, 185597: 3, 26392: 3, 20632: 3, 107420: 3, 455: 3, 214299: 3, 344: 3, 198578: 3, 2560: 3, 167899: 3, 312906: 3, 163900: 3, 68847: 3, 445379: 3, 70466: 3, 27409: 3, 8637: 3, 17407: 3, 92: 3, 29166: 3, 253969: 3, 20786: 3, 37319: 3, 110283: 3, 2656: 3, 47152: 3, 148828: 3, 185491: 3, 233097: 3, 9800: 3, 292039: 3, 158834: 3, 85582: 3, 193664: 3, 7730: 3, 995081: 3, 43554: 3, 164234: 3, 158809: 3, 28121: 3, 118372: 3, 692321: 3, 262699: 3, 181319: 3, 128329: 3, 84446: 3, 153818: 3, 134197: 3, 33610: 3, 213931: 3, 263142: 3, 46423: 3, 85158: 3, 187319: 3, 229691: 4, 197069: 4, 174170: 4, 132936: 4, 462370: 4, 431: 4, 312273: 4, 563808: 4, 38066: 4, 73151: 4, 853344: 4, 43525: 4, 82153: 4, 255011: 4, 156753: 4, 534905: 4, 81001: 4, 138564: 4, 24017: 4, 170926: 4, 2528145: 4, 123601: 4, 217521: 4, 131483: 4, 190472: 4, 338500: 4, 26012: 4, 188317: 4, 2088: 4, 1375757: 4, 80495: 4, 192935: 4, 465419: 4, 3219475: 4, 219594: 4, 1073977: 4, 97370: 4, 516468: 4, 10042943: 4, 95730: 4, 110377: 4, 178356: 4, 97347: 4, 10027578: 4, 113625: 4, 1121715: 4, 510052: 4, 314800: 4, 86381: 4, 341261: 4, 546108: 4, 36656: 4, 114047: 4, 792825: 4, 23599: 4, 823136: 4, 65565: 4, 279747: 4, 278406: 4, 291509: 4, 98343: 4, 412703: 4, 358658: 4, 81547: 4, 338800: 4, 338502: 4, 6000: 4, 52840: 4, 425682: 4, 11321: 4, 316064: 4, 73715: 4, 89851: 4, 344224: 4, 4235911: 4, 68872: 4, 8668416: 4, 74867: 4, 271576: 4, 121694: 4, 273136: 4, 9900: 4, 156223: 4, 210012: 4, 314118: 4, 257822: 4, 24352: 4, 439779: 4, 356152: 4, 24165: 4, 271087: 4, 179689: 4, 65656: 4, 355409: 4, 74625: 4, 192982: 4, 610190: 4, 110149: 4, 53667: 4, 67813: 4, 245549: 4, 240298: 4, 214116: 4, 1056065: 4, 3029: 4, 186687: 4, 415956: 4, 180045: 4, 214701: 4, 162215: 4, 177350: 4, 143695: 4, 187455: 4, 214254: 4, 226541: 4, 3145714: 4, 426482: 4, 1072333: 4, 261872: 4, 1226992: 4, 1042458: 4, 7940833: 4, 146970: 4, 722452: 4, 210377: 4, 207733: 4, 145309: 4, 180839: 4, 372983: 4, 198581: 4, 133712: 4, 74691: 4, 146455: 4, 693508: 4, 364668: 4, 324661: 4, 259977: 4, 52569: 4, 214289: 4, 13574: 4, 154789: 4, 81598: 4, 9455: 4, 697330: 4, 4534068: 5, 4685393: 5, 21062: 5, 102385: 5, 131955: 5, 14143: 5, 194664: 5, 370046: 5, 771666: 5, 625806: 5, 487743: 5, 971407: 5, 4519385: 5, 274938: 5, 152794: 5, 137175: inf, 1022149: inf, 9540733: inf, 230282: inf, 185527: inf, 44314: inf, 427828: inf, 268897: inf, 82274: inf, 207331: inf, 3260830: inf, 797296: inf, 675392: inf, 905005: inf, 905000: inf, 262115: inf, 1415219: inf, 272950: inf, 269329: inf, 540553: inf, 180760: inf, 237284: inf, 530838: inf, 71850: inf, 114798: inf, 926804: inf, 93066: inf, 1077020: inf, 235935: inf, 890553: inf, 10040318: inf, 91224: inf, 1294053: inf, 1161331: inf, 134358: inf, 218701: inf, 35090: inf, 65018: inf}\n"
   ]
  },
  {
   "cell_type": "code",
   "execution_count": null,
   "metadata": {},
   "outputs": [],
   "source": [
    "Para a implementação das medidas de centralidade, foram criados os seguintes métodos:\n",
    "    \n",
    "degree_centrality(G)\n",
    "closeness_centrality(G, src)\n",
    "top_degree_centrality(G)"
   ]
  },
  {
   "cell_type": "markdown",
   "metadata": {},
   "source": [
    "## Bibliografia"
   ]
  },
  {
   "cell_type": "markdown",
   "metadata": {},
   "source": [
    "[1] Data Structures and Algorithms in Python, Michael T. Goodrich, Roberto Tamassia, Michael H. Goldwasser\n",
    "\n",
    "[2] https://docs.python.org/3/reference/datamodel.html\n",
    "\n",
    "[3] https://www.educative.io/edpresso/what-is-a-graph-data-structure"
   ]
  }
 ],
 "metadata": {
  "kernelspec": {
   "display_name": "Python 3",
   "language": "python",
   "name": "python3"
  },
  "language_info": {
   "codemirror_mode": {
    "name": "ipython",
    "version": 3
   },
   "file_extension": ".py",
   "mimetype": "text/x-python",
   "name": "python",
   "nbconvert_exporter": "python",
   "pygments_lexer": "ipython3",
   "version": "3.8.5"
  }
 },
 "nbformat": 4,
 "nbformat_minor": 4
}
