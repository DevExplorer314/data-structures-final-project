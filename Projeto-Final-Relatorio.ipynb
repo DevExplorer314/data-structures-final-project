{
 "cells": [
  {
   "cell_type": "markdown",
   "metadata": {},
   "source": [
    "![title](Logo.png)"
   ]
  },
  {
   "cell_type": "markdown",
   "metadata": {},
   "source": [
    "## Projeto Final - Implementação de um TAD Grafo para Rede Social"
   ]
  },
  {
   "cell_type": "markdown",
   "metadata": {},
   "source": [
    "#### Licenciatura em Ciência de Dados\n",
    "#### UC: Estrutura de Dados e Algoritmos\n",
    "#### Docente: Filipe Santos"
   ]
  },
  {
   "cell_type": "markdown",
   "metadata": {},
   "source": [
    "#### Grupo:\n",
    "\n",
    "João Portásio, nº 94754\n",
    "\n",
    "Sandra Silva, nº 98372\n",
    "\n",
    "Tiago Madeira, nº 95088\n",
    "\n",
    "__30 de Junho de 2021__"
   ]
  },
  {
   "cell_type": "markdown",
   "metadata": {},
   "source": [
    "## Índice\n",
    "\n",
    "1. Introdução\n",
    "\n",
    "\n",
    "2. Grafos e Redes\n",
    "\n",
    "\n",
    "3. Algoritmo de Dijkstra\n",
    "\n",
    "\n",
    "4. Medidas de centralidade\n",
    "\n",
    "    4.1 Centralidade de grau\n",
    "    \n",
    "    4.2 Centralidade de proximidade\n",
    "    \n",
    "\n",
    "5. Resultados obtidos\n",
    "\n",
    "\n",
    "6. Bibliografia"
   ]
  },
  {
   "cell_type": "markdown",
   "metadata": {},
   "source": [
    "## Introdução"
   ]
  },
  {
   "cell_type": "markdown",
   "metadata": {},
   "source": [
    "No projeto final de EDA, a primeira fase consistiu em implementar um TAD Grafo com métodos de consulta,\n",
    "inserção, remoção e pesquisa, que vai ser usado numa aplicação prática, usando dados de ligações (seguido-seguidor) do GitHub. Para a implementação do grafo, foi necessário implementar a classe Vertex e Edge. Os utilizadores da rede social, correspondem aos vértices do grafo e as arestas são as ligações entre os utilizadores.\n",
    "\n",
    "Afim de calcular os caminhos mais curtos no grafo, foi utilizado o algoritmo de Dijkstra. Este algoritmo permitiu determinar o caminho mais curto entre dois utilizadores. O caminho mais curto é aquele que tem o menor custo (peso da aresta) entre os utilizadores.\n",
    "\n",
    "Na segunda fase do projeto...*Complementar*"
   ]
  },
  {
   "cell_type": "markdown",
   "metadata": {},
   "source": [
    "## Grafos e Redes"
   ]
  },
  {
   "cell_type": "markdown",
   "metadata": {},
   "source": [
    "Grafos são representações de objetos que se relacionam entre si. Os objetos denominam-se de vértices e as relações entre os objetos, arestas.\n",
    "Se as relações não forem dirigidas, ou seja, se afetarem ambos os vértices de igual forma, trata-se de um grafo não dirigido (undirected) ou não orientado. Caso contrário, denomina-se grafo dirigido (directed) ou orientado. Neste caso, as arestas são normalmente designadas por arcos, já que implicam uma única direção. É de notar que basta existir uma aresta dirigida, para todo o grafo se considerar dirigido.\n",
    "\n",
    "#### Grafo não dirigido\n",
    "\n",
    "![title](grafo-nao-dirigido.png)\n",
    "\n",
    "#### Grafo dirigido\n",
    "\n",
    "![title](grafo-dirigido.png)\n",
    "Uma aresta num grafo dirigido costuma designar-se por arco e um vértice por nó. Cada arco tem um nó origem (antecessor) e um nó fim (sucessor)."
   ]
  },
  {
   "cell_type": "markdown",
   "metadata": {},
   "source": [
    "## Algoritmo de Dijkstra"
   ]
  },
  {
   "cell_type": "code",
   "execution_count": null,
   "metadata": {},
   "outputs": [],
   "source": []
  },
  {
   "cell_type": "markdown",
   "metadata": {},
   "source": [
    "## Medidas de Centralidade"
   ]
  },
  {
   "cell_type": "markdown",
   "metadata": {},
   "source": [
    "Em ciências da computação, quando se estuda redes, pretende-se identificar vértices influentes ou importantes. \n",
    "A identificação destes vértices usa medidas de centralidade com base nas\n",
    "diferentes noções de importância dos vértices ou arestas. \n",
    "\n",
    "Algumas destas medidas são: a centralidade de grau (degree centrality), a de proximidade (closeness) e a de intermediação (betweeness). Nestes casos, a importância de um vértice devesse ao seu número de ligações e à assunção de quão importante será um nó por onde muitos dos caminhos no grafo passem."
   ]
  },
  {
   "cell_type": "markdown",
   "metadata": {},
   "source": [
    "### Centralidade de grau"
   ]
  },
  {
   "cell_type": "markdown",
   "metadata": {},
   "source": [
    "A centralidade de grau de um determinado vértice, é calculada como a quantidade de \"vizinhos\" (nós adjacentes), ou seja, o grau de um nó. Se o grafo for dirigido, é importante saber a centralidade de entrada e a de saída, uma vez que a primeira mede a popularidade do nó e a segunda, o grau de influência."
   ]
  },
  {
   "cell_type": "markdown",
   "metadata": {},
   "source": [
    "### Centralidade de proximidade"
   ]
  },
  {
   "cell_type": "markdown",
   "metadata": {},
   "source": [
    "A centralidade de proximidade de um vértice é calculada como o inverso da soma das distâncias do vértice a todos os restantes. Quanto mais próximo um nó estiver\n",
    "de todos os restantes, maior a importância do vértice na rede."
   ]
  },
  {
   "cell_type": "markdown",
   "metadata": {},
   "source": [
    "## Resultados obtidos"
   ]
  },
  {
   "cell_type": "code",
   "execution_count": null,
   "metadata": {},
   "outputs": [],
   "source": []
  },
  {
   "cell_type": "markdown",
   "metadata": {},
   "source": [
    "## Bibliografia"
   ]
  },
  {
   "cell_type": "markdown",
   "metadata": {},
   "source": [
    "[1] Data Structures and Algorithms in Python, Michael T. Goodrich, Roberto Tamassia, Michael H. Goldwasser"
   ]
  }
 ],
 "metadata": {
  "kernelspec": {
   "display_name": "Python 3",
   "language": "python",
   "name": "python3"
  },
  "language_info": {
   "codemirror_mode": {
    "name": "ipython",
    "version": 3
   },
   "file_extension": ".py",
   "mimetype": "text/x-python",
   "name": "python",
   "nbconvert_exporter": "python",
   "pygments_lexer": "ipython3",
   "version": "3.8.5"
  }
 },
 "nbformat": 4,
 "nbformat_minor": 4
}
